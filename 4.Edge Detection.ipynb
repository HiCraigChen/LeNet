{
 "cells": [
  {
   "cell_type": "code",
   "execution_count": 1,
   "metadata": {
    "collapsed": true
   },
   "outputs": [],
   "source": [
    "import struct\n",
    "import numpy as np\n",
    "from matplotlib import pyplot\n",
    "import matplotlib as mpl"
   ]
  },
  {
   "cell_type": "code",
   "execution_count": 2,
   "metadata": {
    "collapsed": true
   },
   "outputs": [],
   "source": [
    "def read(dataset = \"training\", path = \".\"):\n",
    "    \"\"\"\n",
    "    Python function for importing the MNIST data set.  It returns an iterator\n",
    "    of 2-tuples with the first element being the label and the second element\n",
    "    being a numpy.uint8 2D array of pixel data for the given image.\n",
    "    \"\"\"\n",
    "    with open('../../data/raw/train-labels-idx1-ubyte', 'rb') as flbl:\n",
    "        magic, num = struct.unpack(\">II\", flbl.read(8))\n",
    "        lbl = np.fromfile(flbl, dtype=np.int8)\n",
    "\n",
    "    with open('../../data/raw/train-images-idx3-ubyte', 'rb') as fimg:\n",
    "        magic, num, rows, cols = struct.unpack(\">IIII\", fimg.read(16))\n",
    "        img = np.fromfile(fimg, dtype=np.uint8).reshape(len(lbl), rows, cols)\n",
    "\n",
    "    get_img = lambda idx: (lbl[idx], img[idx])\n",
    "\n",
    "    # Create an iterator which returns each image in turn\n",
    "    for i in range(len(lbl)):\n",
    "        yield get_img(i)"
   ]
  },
  {
   "cell_type": "code",
   "execution_count": 3,
   "metadata": {
    "collapsed": true
   },
   "outputs": [],
   "source": [
    "def show(image):\n",
    "    fig = pyplot.figure()\n",
    "    ax = fig.add_subplot(1,1,1)\n",
    "    imgplot = ax.imshow(image, cmap=mpl.cm.Greys)\n",
    "    imgplot.set_interpolation('nearest')\n",
    "    ax.xaxis.set_ticks_position('top')\n",
    "    ax.yaxis.set_ticks_position('left')\n",
    "    pyplot.show()\n",
    "\n",
    "def ascii_show(image):\n",
    "    for y in image:\n",
    "        row = \"\"\n",
    "        for x in y:\n",
    "            row += '{:02X}'.format(x)+' '\n",
    "        print(row)"
   ]
  },
  {
   "cell_type": "markdown",
   "metadata": {},
   "source": [
    "### 1. Increase the size of first five picture into 30x30. Use Gx and Gy Matrix to generate 10 pictures"
   ]
  },
  {
   "cell_type": "code",
   "execution_count": 4,
   "metadata": {
    "collapsed": true
   },
   "outputs": [],
   "source": [
    "# Pad out the original image.\n",
    "def padding_30(img):\n",
    "    result = np.zeros([30,30])\n",
    "    for i in range(28):\n",
    "        for j in range(28):\n",
    "            result[i+1,j+1] = img[i,j]\n",
    "    return result"
   ]
  },
  {
   "cell_type": "code",
   "execution_count": 5,
   "metadata": {
    "collapsed": false
   },
   "outputs": [],
   "source": [
    "Gx = np.array([[-1,0,1],[-2,0,2],[-1,0,1]])\n",
    "Gy = np.array([[1,2,1],[0,0,0],[-1,-2,-1]])"
   ]
  },
  {
   "cell_type": "code",
   "execution_count": 6,
   "metadata": {
    "collapsed": false
   },
   "outputs": [],
   "source": [
    "# load data\n",
    "training_data = list(read(dataset='traing',path=''))"
   ]
  },
  {
   "cell_type": "code",
   "execution_count": 7,
   "metadata": {
    "collapsed": true
   },
   "outputs": [],
   "source": [
    "# Filter the image by Gx and Gy\n",
    "def Gx_Fc(number):\n",
    "    New_img_list = []\n",
    "    for i in range(number):\n",
    "        New_img = np.zeros([28,28])\n",
    "        label, pixel = training_data[i]\n",
    "        img = padding_30(pixel)\n",
    "        for j in range(pixel.shape[0]):\n",
    "            for k in range(pixel.shape[1]):\n",
    "                New_img[j,k] = sum(sum(np.multiply(img[j:j+3,k:k+3],Gx)))/(3*3)\n",
    "        New_img_list.append(New_img)\n",
    "    show_list(New_img_list)\n",
    "\n",
    "def Gy_Fc(number):\n",
    "    New_img_list = []\n",
    "    for i in range(number):\n",
    "        New_img = np.zeros([28,28])\n",
    "        label, pixel = training_data[i]\n",
    "        img = padding_30(pixel)\n",
    "        for j in range(pixel.shape[0]):\n",
    "            for k in range(pixel.shape[1]):\n",
    "                New_img[j,k] = sum(sum(np.multiply(img[j:j+3,k:k+3],Gy)))/(3*3)\n",
    "        New_img_list.append(New_img)\n",
    "    show_list(New_img_list)\n",
    "        \n",
    "def show_list(image):\n",
    "    fig = pyplot.figure()\n",
    "    L = len(image)\n",
    "    for i in range(L):\n",
    "        ax = fig.add_subplot(1,L,i+1)\n",
    "        imgplot = ax.imshow(image[i], cmap=mpl.cm.Greys)\n",
    "    pyplot.show()"
   ]
  },
  {
   "cell_type": "code",
   "execution_count": 8,
   "metadata": {
    "collapsed": false,
    "scrolled": false
   },
   "outputs": [
    {
     "data": {
      "image/png": "[encoded data removed]",
      "text/plain": [
       "<matplotlib.figure.Figure at 0x10ffc8470>"
      ]
     },
     "metadata": {},
     "output_type": "display_data"
    },
    {
     "data": {
      "image/png": "[encoded data removed]",
      "text/plain": [
       "<matplotlib.figure.Figure at 0x117d4c198>"
      ]
     },
     "metadata": {},
     "output_type": "display_data"
    }
   ],
   "source": [
    "Gx_Fc(5)\n",
    "Gy_Fc(5)"
   ]
  },
  {
   "cell_type": "markdown",
   "metadata": {},
   "source": [
    "## 2. Increase the size of  the first image in the dataset to 32x32, 34x34, 36x36. Then, use 5x5, 7x7 and 9x9 filter to modify it."
   ]
  },
  {
   "cell_type": "code",
   "execution_count": 9,
   "metadata": {
    "collapsed": true
   },
   "outputs": [],
   "source": [
    "# To generate 32x32, 34x34, 36x36 image\n",
    "def padding_32_34_36(img):\n",
    "    result1 = np.zeros([32,32])\n",
    "    result2 = np.zeros([34,34])\n",
    "    result3 = np.zeros([36,36])\n",
    "    \n",
    "    for i in range(28):\n",
    "        for j in range(28):\n",
    "            p = img[i,j]\n",
    "            result1[i+2,j+2] = p\n",
    "            result2[i+3,j+3] = p\n",
    "            result3[i+4,j+4] = p\n",
    "    return result1, result2, result3"
   ]
  },
  {
   "cell_type": "code",
   "execution_count": 10,
   "metadata": {
    "collapsed": true
   },
   "outputs": [],
   "source": [
    "# To make filter\n",
    "def make_filter(size):\n",
    "    Filter = np.zeros([size,size])\n",
    "    half = int(size/2)\n",
    "    for j in range(half):\n",
    "        for i in range(half+1):\n",
    "            Filter[i,j] = half+i-j\n",
    "    count = 1\n",
    "    for i in range(half+1,size):\n",
    "        for j in range(half):\n",
    "            Filter[i,j] = Filter[i-2*count,j]\n",
    "        count+=1\n",
    "    count = 1  \n",
    "    for j in range(half+1,size):\n",
    "        for i in range(size):\n",
    "            Filter[i,j] = -Filter[i,j-2*count]\n",
    "        count+=1\n",
    "    return Filter"
   ]
  },
  {
   "cell_type": "code",
   "execution_count": 11,
   "metadata": {
    "collapsed": false
   },
   "outputs": [],
   "source": [
    "# Use filter on image\n",
    "def Filter_Fc(img,filters):\n",
    "    New_img = np.zeros([28,28])\n",
    "    subsize = filters.shape[0]\n",
    "    for j in range(New_img.shape[0]):\n",
    "        for k in range(New_img.shape[1]):\n",
    "            New_img[j,k] = sum(sum(np.multiply(img[j:j+subsize,k:k+subsize],filters)))/(subsize*subsize)\n",
    "    show(New_img)\n",
    "    ascii_show(New_img.astype(np.uint8)) "
   ]
  },
  {
   "cell_type": "code",
   "execution_count": 12,
   "metadata": {
    "collapsed": false,
    "scrolled": false
   },
   "outputs": [
    {
     "name": "stdout",
     "output_type": "stream",
     "text": [
      "----------5x5 filter on 32x32----------\n"
     ]
    },
    {
     "data": {
      "image/png": "[encoded data removed]",
      "text/plain": [
       "<matplotlib.figure.Figure at 0x117f14b38>"
      ]
     },
     "metadata": {},
     "output_type": "display_data"
    },
    {
     "name": "stdout",
     "output_type": "stream",
     "text": [
      "00 00 00 00 00 00 00 00 00 00 00 00 00 00 00 00 00 00 00 00 00 00 00 00 00 00 00 00 \n",
      "00 00 00 00 00 00 00 00 00 00 00 00 00 00 00 00 00 00 00 00 00 00 00 00 00 00 00 00 \n",
      "00 00 00 00 00 00 00 00 00 00 00 00 00 00 00 00 00 00 00 00 00 00 00 00 00 00 00 00 \n",
      "00 00 00 00 00 00 00 00 00 00 00 FF FE FE F7 F3 EF FE 01 F7 F2 F5 12 1E 18 0A 00 00 \n",
      "00 00 00 00 00 00 FE FC F8 F2 F0 EA EC F2 EB EA E6 02 07 F3 E5 F9 39 4D 39 14 00 00 \n",
      "00 00 00 00 00 FD E8 DC D6 D8 E5 DD E0 E9 E3 E1 E9 18 21 FE DD 00 5F 79 56 1C 00 00 \n",
      "00 00 00 00 00 F9 C9 A9 A1 B2 D7 D2 DC EB E8 E9 09 45 4D 1C EA 12 6A 7A 53 19 00 00 \n",
      "00 00 00 00 00 F6 AF 75 71 92 CE D5 F4 16 0B F3 19 63 71 3F FB 18 52 58 3B 11 00 00 \n",
      "00 00 00 00 00 F8 AF 6E 6A 81 B3 CA 0A 4E 44 07 23 67 7B 51 08 18 29 25 16 05 00 00 \n",
      "00 00 00 00 00 FA C3 8F 8E 87 91 B1 1E 8E 82 1C 0F 42 5E 45 05 08 08 06 03 00 00 00 \n",
      "00 00 00 00 00 FF E5 C8 C8 A1 6F 7E 08 9B A7 3E 08 1B 2E 25 00 00 00 00 00 00 00 00 \n",
      "00 00 00 00 00 00 FA EF F0 C1 72 5A D1 6F A6 68 1B 12 12 0C 00 00 00 00 00 00 00 00 \n",
      "00 00 00 00 00 00 00 FF 00 E2 99 60 92 0B 64 71 49 39 26 0A 02 00 00 00 00 00 00 00 \n",
      "00 00 00 00 00 00 00 00 00 F4 C9 85 7B AE FE 45 59 68 56 2A 10 02 00 00 00 00 00 00 \n",
      "00 00 00 00 00 00 00 00 00 00 ED B8 8D 83 A5 EF 30 66 7E 5E 33 12 00 00 00 00 00 00 \n",
      "00 00 00 00 00 00 00 00 00 00 FE E2 BA 95 87 98 D5 28 7F 98 69 31 05 00 00 00 00 00 \n",
      "00 00 00 00 00 00 00 00 00 00 00 FA E1 BA 93 63 79 D0 68 C6 A3 54 07 00 00 00 00 00 \n",
      "00 00 00 00 00 00 00 00 00 00 FD F3 DF BF A3 64 59 A1 53 DB CA 6F 0A 00 00 00 00 00 \n",
      "00 00 00 00 00 00 00 00 FF F6 E6 CF BA AB A7 87 8E CA 65 D7 C2 69 08 00 00 00 00 00 \n",
      "00 00 00 00 00 00 FF FA EA D5 BD A5 9B 9F BD D1 F1 1E 7A B2 94 4C 05 00 00 00 00 00 \n",
      "00 00 00 00 FF F2 E5 DA C8 B6 9D 96 AC CE FA 1E 3F 5C 7E 7A 55 26 00 00 00 00 00 00 \n",
      "00 00 FC F1 E5 CF C2 BD AF A6 A4 C1 F2 1D 41 58 61 5C 52 3C 24 0E 00 00 00 00 00 00 \n",
      "00 00 EF CE B6 9E A2 B5 BB CF DF 0A 42 5F 66 5A 4C 3A 26 13 06 00 00 00 00 00 00 00 \n",
      "00 00 E7 B5 93 86 A4 CD DE FC 19 46 6B 68 53 3A 26 14 06 00 00 00 00 00 00 00 00 00 \n",
      "00 00 E4 AF 8F 90 BE F0 08 28 3C 50 58 44 2C 14 06 00 00 00 00 00 00 00 00 00 00 00 \n",
      "00 00 EC C7 B5 BE E4 09 15 23 2C 32 2E 1A 0B 00 00 00 00 00 00 00 00 00 00 00 00 00 \n",
      "00 00 F6 E7 E2 E8 FA 0B 0E 16 15 10 0B 01 00 00 00 00 00 00 00 00 00 00 00 00 00 00 \n",
      "00 00 00 00 00 00 00 00 00 00 00 00 00 00 00 00 00 00 00 00 00 00 00 00 00 00 00 00 \n",
      "----------7x7 filter on 34x34----------\n"
     ]
    },
    {
     "data": {
      "image/png": "[encoded data removed]",
      "text/plain": [
       "<matplotlib.figure.Figure at 0x10f794b70>"
      ]
     },
     "metadata": {},
     "output_type": "display_data"
    },
    {
     "name": "stdout",
     "output_type": "stream",
     "text": [
      "00 00 00 00 00 00 00 00 00 00 00 00 00 00 00 00 00 00 00 00 00 00 00 00 00 00 00 00 \n",
      "00 00 00 00 00 00 00 00 00 00 00 00 00 00 00 00 00 00 00 00 00 00 00 00 00 00 00 00 \n",
      "00 00 00 00 00 00 00 00 00 00 FF FF FE F8 F3 EF F7 F6 F3 F4 F9 04 0A 19 1C 14 07 00 \n",
      "00 00 00 00 00 FF FD F9 F2 EE E7 E6 E7 E5 E4 E3 F8 F6 F2 F3 FF 18 2A 44 41 2A 0E 00 \n",
      "00 00 00 00 FD ED E2 D7 CF CE CF D9 DD DB DC E4 04 08 05 04 0D 29 46 68 5D 39 12 00 \n",
      "00 00 00 00 FB D9 BC A6 9C A3 B0 CF D8 D5 D5 ED 1E 28 29 21 20 36 5D 87 76 47 16 00 \n",
      "00 00 00 00 FA C9 99 76 61 6C 87 C5 E1 E7 EB 0C 3E 47 4C 42 3E 42 67 8B 75 45 14 00 \n",
      "00 00 00 00 F9 BD 80 54 35 3F 6B C5 F7 0A 15 35 57 62 6A 5D 4F 3F 59 73 60 39 10 00 \n",
      "00 00 00 00 F9 BD 7D 50 24 1E 49 BB 0A 35 4B 64 6B 67 72 66 54 33 42 54 47 2C 0D 00 \n",
      "00 00 00 00 FB C7 8E 6A 36 13 27 A3 12 61 89 9C 7D 5E 6A 63 4F 21 26 29 1F 11 03 00 \n",
      "00 00 00 00 FC D5 AB 97 65 2E 23 8B 01 64 A4 BB 8E 5A 59 4F 35 09 09 08 05 02 00 00 \n",
      "00 00 00 00 FF EC D5 CB 9E 57 2A 65 C9 30 8D B8 9A 60 53 43 23 01 00 00 00 00 00 00 \n",
      "00 00 00 00 00 FC F3 F1 CD 87 48 58 8F E3 4B 8D 91 6C 61 4D 2A 0C 01 00 00 00 00 00 \n",
      "00 00 00 00 00 00 00 00 EA B5 76 61 68 95 ED 3F 72 7E 82 71 4A 27 0D 00 00 00 00 00 \n",
      "00 00 00 00 00 00 00 00 F7 D8 A2 7F 6A 6C 93 DE 2D 6D 98 9F 83 4F 23 03 00 00 00 00 \n",
      "00 00 00 00 00 00 00 00 00 F2 CB A4 7B 5A 49 76 CE 45 A6 D2 C4 7F 3B 05 00 00 00 00 \n",
      "00 00 00 00 00 00 00 00 00 FC DF B2 80 52 22 2F 7F 1E AB FC 02 AF 54 06 00 00 00 00 \n",
      "00 00 00 00 00 00 00 FF F9 EB D2 AB 7D 55 21 28 69 10 AE 13 23 C5 5E 08 00 00 00 00 \n",
      "00 00 00 00 00 FF FC EE DC C5 AB 90 76 6C 4F 5B 95 29 B3 09 17 BF 5B 06 00 00 00 00 \n",
      "00 00 00 FF F5 EA DE CA B4 9C 8A 7E 81 98 9E BB EB 56 B0 E5 E9 A1 4F 05 00 00 00 00 \n",
      "00 FD F4 E9 D5 C4 B6 A5 95 86 87 90 AB DA F8 19 3E 83 AC B6 A5 6E 35 04 00 00 00 00 \n",
      "00 F4 DA C3 A5 93 90 90 95 96 AA C4 EB 1D 40 5E 74 91 93 82 64 3F 1B 00 00 00 00 00 \n",
      "00 F0 CD AC 84 72 76 86 9F B3 DA 00 2F 5F 75 7D 7A 75 63 4B 32 1D 0B 00 00 00 00 00 \n",
      "00 EC C1 96 6C 61 76 98 C0 E0 12 3F 67 83 82 75 60 4A 34 20 0F 04 00 00 00 00 00 00 \n",
      "00 EA BE 93 6D 6C 8B B7 EA 10 40 5F 73 7C 69 4F 34 20 10 05 00 00 00 00 00 00 00 00 \n",
      "00 EE CA A9 8E 8F AD D9 07 27 4B 5B 5E 54 3B 24 10 05 00 00 00 00 00 00 00 00 00 00 \n",
      "00 F2 D7 C1 B6 BE D8 FA 1A 2C 3A 3A 32 27 15 08 00 00 00 00 00 00 00 00 00 00 00 00 \n",
      "00 F8 EB E4 E2 E7 F5 05 15 1A 1A 15 0D 08 00 00 00 00 00 00 00 00 00 00 00 00 00 00 \n",
      "----------9x9 filter on 36x36----------\n"
     ]
    },
    {
     "data": {
      "image/png": "[encoded data removed]",
      "text/plain": [
       "<matplotlib.figure.Figure at 0x117f1e4a8>"
      ]
     },
     "metadata": {},
     "output_type": "display_data"
    },
    {
     "name": "stdout",
     "output_type": "stream",
     "text": [
      "00 00 00 00 00 00 00 00 00 00 00 00 00 00 00 00 00 00 00 00 00 00 00 00 00 00 00 00 \n",
      "00 00 00 00 00 00 00 00 00 FF FF FE F9 F4 F0 F5 F3 EF ED F4 01 09 0F 10 19 18 10 06 \n",
      "00 00 00 00 FF FE FA F4 EF E8 E4 E3 DF DD DE EC ED EC EC FB 13 23 2F 33 3E 35 21 0B \n",
      "00 00 00 FE F1 E6 DB D1 CB C5 C5 CE D3 D2 DD F5 FA FE 00 12 2D 3F 4A 4F 58 47 2B 0D \n",
      "00 00 00 FD E2 CA B4 A2 9B 97 A2 BA CB CB E4 07 15 1D 20 31 4C 5A 5E 66 6D 56 33 0F \n",
      "00 00 00 FC D7 B2 92 71 62 63 7F AB CB CE F1 22 30 38 35 46 64 74 72 7C 83 65 3B 12 \n",
      "00 00 00 FB CF A0 78 45 29 2E 59 97 CB DB 0D 4A 58 5A 52 60 7B 85 7A 81 84 65 3A 11 \n",
      "00 00 00 FA C8 91 63 20 F6 FE 3D 8F DC FA 38 7B 87 7F 6C 74 88 86 6D 71 73 58 33 0E \n",
      "00 00 00 FA C8 90 61 19 DE DB 22 84 E8 18 61 A6 B0 9B 76 78 86 7C 59 5B 5E 49 2B 0C \n",
      "00 00 00 FB CE 9A 72 2A E4 CD 09 6A DE 29 7D C5 CD B0 7C 77 7E 6B 45 45 49 3A 22 0A \n",
      "00 00 00 FC D6 AA 8B 49 FE D7 FD 4D C0 21 89 D8 EA D0 9C 8A 7A 56 29 26 24 1A 0E 03 \n",
      "00 00 00 FD DF BD A9 76 2E FF 15 4C A6 02 6E C6 E9 D6 A5 92 77 48 14 0A 07 04 01 00 \n",
      "00 00 00 00 F0 DD D3 AC 6A 30 31 4A 7F C8 28 87 C2 C2 9D 91 7C 52 1F 0A 00 00 00 00 \n",
      "00 00 00 00 FD F5 F3 D6 9E 64 53 50 61 88 D2 2D 81 A3 9A 9C 90 70 3F 1C 03 00 00 00 \n",
      "00 00 00 00 00 00 00 EF C6 93 74 57 42 44 73 C8 39 89 B1 CA C2 9D 62 2D 04 00 00 00 \n",
      "00 00 00 00 00 00 00 F9 DE AD 84 58 30 10 22 6A F5 74 CA FF 01 D7 89 3F 04 00 00 00 \n",
      "00 00 00 00 00 00 FF F9 E2 B3 82 50 1F F0 F7 3B D0 68 DE 29 31 00 A2 49 05 00 00 00 \n",
      "00 00 00 00 FF FC F1 E2 CC A3 70 3F 1C F8 04 41 CF 6B EF 3E 44 0F AD 4F 06 00 00 00 \n",
      "00 00 00 F7 ED E2 D0 BB A2 87 6A 50 3D 24 35 6F F0 75 EC 36 3C 0A AA 4E 05 00 00 00 \n",
      "FE F6 EC DB CB BB A5 91 82 7A 74 73 75 6D 86 BA 23 86 DE 16 17 EF 9B 47 04 00 00 00 \n",
      "F6 E2 CD B2 9D 90 7F 78 7C 83 89 9D B4 C1 E2 0B 5D 9F CF E5 DB BC 7C 3A 04 00 00 00 \n",
      "F4 DA C0 9C 80 72 63 62 73 87 9E C4 EB 0B 34 55 8A AA B9 B5 A0 82 55 29 03 00 00 00 \n",
      "F2 D2 B2 86 65 57 4E 5A 7C A4 CA FA 22 49 6D 81 9A 9F 9A 89 6F 51 32 15 00 00 00 00 \n",
      "EF CB A5 75 53 4C 4F 69 9B CD FA 2D 53 73 8B 8F 8F 82 70 59 40 2A 17 08 00 00 00 00 \n",
      "EE C9 A3 75 57 58 63 86 BF F7 25 54 70 83 8F 86 72 58 41 2C 1A 0C 03 00 00 00 00 00 \n",
      "F1 D0 B0 8B 74 75 81 A5 DD 13 3D 62 75 7C 78 5F 45 2C 1B 0D 04 00 00 00 00 00 00 00 \n",
      "F3 D8 BE A1 91 96 A8 CC FD 2B 4B 62 63 59 4A 32 1E 0D 04 00 00 00 00 00 00 00 00 00 \n",
      "F5 E0 CC BE BA C3 D3 EF 14 32 3E 3F 38 2C 21 12 06 00 00 00 00 00 00 00 00 00 00 00 \n"
     ]
    }
   ],
   "source": [
    "label, pixel = training_data[0]\n",
    "img32, img34, img36 = padding_32_34_36(pixel)\n",
    "filter5 = make_filter(5)\n",
    "filter7 = make_filter(7)\n",
    "filter9 = make_filter(9)\n",
    "print('----------5x5 filter on 32x32----------')\n",
    "Filter_Fc(img32,filter5)\n",
    "print('----------7x7 filter on 34x34----------')\n",
    "Filter_Fc(img34,filter7)\n",
    "print('----------9x9 filter on 36x36----------')\n",
    "Filter_Fc(img36,filter9)"
   ]
  },
  {
   "cell_type": "markdown",
   "metadata": {},
   "source": [
    "## 3. Explain why  Gx can detect the edge"
   ]
  },
  {
   "cell_type": "markdown",
   "metadata": {},
   "source": [
    "### Gx = np.array([[-1,0,1],[-2,0,2],[-1,0,1]])\n",
    "### The digits in middle column of Gx are all zero. The numbers besides zero are inverse number. This makes filters seperate the pixel on the edge more easily. The object can be more well"
   ]
  },
  {
   "cell_type": "code",
   "execution_count": null,
   "metadata": {
    "collapsed": true
   },
   "outputs": [],
   "source": []
  },
  {
   "cell_type": "code",
   "execution_count": null,
   "metadata": {
    "collapsed": true
   },
   "outputs": [],
   "source": []
  }
 ],
 "metadata": {
  "kernelspec": {
   "display_name": "Python 3",
   "language": "python",
   "name": "python3"
  },
  "language_info": {
   "codemirror_mode": {
    "name": "ipython",
    "version": 3
   },
   "file_extension": ".py",
   "mimetype": "text/x-python",
   "name": "python",
   "nbconvert_exporter": "python",
   "pygments_lexer": "ipython3",
   "version": "3.6.0"
  }
 },
 "nbformat": 4,
 "nbformat_minor": 2
}
